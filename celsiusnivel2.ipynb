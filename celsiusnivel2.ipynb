{
  "nbformat": 4,
  "nbformat_minor": 0,
  "metadata": {
    "colab": {
      "name": "Untitled0.ipynb",
      "provenance": [],
      "authorship_tag": "ABX9TyMBBPRWAEYAOjadtbpCbQlu",
      "include_colab_link": true
    },
    "kernelspec": {
      "name": "python3",
      "display_name": "Python 3"
    },
    "language_info": {
      "name": "python"
    }
  },
  "cells": [
    {
      "cell_type": "markdown",
      "metadata": {
        "id": "view-in-github",
        "colab_type": "text"
      },
      "source": [
        "<a href=\"https://colab.research.google.com/github/josemartinez1/new_repository/blob/master/celsiusnivel2.ipynb\" target=\"_parent\"><img src=\"https://colab.research.google.com/assets/colab-badge.svg\" alt=\"Open In Colab\"/></a>"
      ]
    },
    {
      "cell_type": "code",
      "execution_count": 1,
      "metadata": {
        "id": "PskCf7iEuUDf"
      },
      "outputs": [],
      "source": [
        "import tensorflow as tf \n",
        "import numpy as np "
      ]
    },
    {
      "cell_type": "code",
      "source": [
        "celsius = np.array([-40,-10,0,8,15,22,38], dtype=float )\n",
        "fahrenhei = np.array([-40,14,32,46,59,72,100 ], dtype=float)"
      ],
      "metadata": {
        "id": "WHHvBnjIvA6c"
      },
      "execution_count": 3,
      "outputs": []
    },
    {
      "cell_type": "code",
      "source": [
        "#capa = tf.keras.layers.Dense(units=1, input_shape=[1])\n",
        "#modelo = tf.keras.Sequential([capa])\n",
        "\n",
        "\n",
        "oculta1 = tf.keras.layers.Dense(units=3, input_shape=[1])\n",
        "oculta2 = tf.keras.layers.Dense(units=3)\n",
        "salida = tf.keras.layers.Dense(units=1)\n",
        "modelo = tf.keras.Sequential([oculta1,oculta2,salida])"
      ],
      "metadata": {
        "id": "bMN6_mmFv-g0"
      },
      "execution_count": 13,
      "outputs": []
    },
    {
      "cell_type": "code",
      "source": [
        "modelo.compile(\n",
        "    optimizer=tf.keras.optimizers.Adam(0.1),\n",
        "    loss='mean_squared_error'\n",
        ")"
      ],
      "metadata": {
        "id": "o0sOkNyEwxp7"
      },
      "execution_count": 14,
      "outputs": []
    },
    {
      "cell_type": "code",
      "source": [
        "print(\"comenzamos entrenamiento... \")\n",
        "historial = modelo.fit(celsius,fahrenhei, epochs=1000, verbose= False )\n",
        "print(\"Modelo comenzado\")"
      ],
      "metadata": {
        "colab": {
          "base_uri": "https://localhost:8080/"
        },
        "id": "2wlFquL5xVuM",
        "outputId": "f8411518-09df-40b1-8d9b-9c7fef5ad760"
      },
      "execution_count": 15,
      "outputs": [
        {
          "output_type": "stream",
          "name": "stdout",
          "text": [
            "comenzamos entrenamiento... \n",
            "Modelo comenzado\n"
          ]
        }
      ]
    },
    {
      "cell_type": "code",
      "source": [
        "import matplotlib.pyplot as plt\n",
        "plt.xlabel(\" # Epoca\")\n",
        "plt.ylabel(\" magnitud aprendida \")\n",
        "plt.plot(historial.history[\"loss\"])"
      ],
      "metadata": {
        "colab": {
          "base_uri": "https://localhost:8080/",
          "height": 296
        },
        "id": "-06AVUiRx6Gu",
        "outputId": "bb3ff62a-516a-4f6d-81ed-31b98ce9ffbe"
      },
      "execution_count": 16,
      "outputs": [
        {
          "output_type": "execute_result",
          "data": {
            "text/plain": [
              "[<matplotlib.lines.Line2D at 0x7f21b4e25410>]"
            ]
          },
          "metadata": {},
          "execution_count": 16
        },
        {
          "output_type": "display_data",
          "data": {
            "text/plain": [
              "<Figure size 432x288 with 1 Axes>"
            ],
            "image/png": "[encoded data removed]"
          },
          "metadata": {
            "needs_background": "light"
          }
        }
      ]
    },
    {
      "cell_type": "code",
      "source": [
        "print(\"hagamos una prediccion \")\n",
        "resultado = modelo.predict([100.0])\n",
        "print(\"El resultado es \" + str(resultado) +  \"fahrenheit\")"
      ],
      "metadata": {
        "colab": {
          "base_uri": "https://localhost:8080/"
        },
        "id": "HjvvNjpEy7oc",
        "outputId": "7f966759-e0e9-4adf-d818-929bf43b7a8b"
      },
      "execution_count": 17,
      "outputs": [
        {
          "output_type": "stream",
          "name": "stdout",
          "text": [
            "hagamos una prediccion \n",
            "El resultado es [[211.74745]]fahrenheit\n"
          ]
        }
      ]
    },
    {
      "cell_type": "code",
      "source": [
        "resultado2 = modelo.predict([21.0])\n",
        "print(\"el resultado en tlaquepaque es \"+ str(resultado2)+ \"en fahrenheit\")"
      ],
      "metadata": {
        "colab": {
          "base_uri": "https://localhost:8080/"
        },
        "id": "EVSHTLtmztL-",
        "outputId": "40ad77c6-55ac-4a42-cae8-f07b77e1def1"
      },
      "execution_count": 11,
      "outputs": [
        {
          "output_type": "stream",
          "name": "stdout",
          "text": [
            "el resultado en tlaquepaque es [[69.67275]]en fahrenheit\n"
          ]
        }
      ]
    },
    {
      "cell_type": "code",
      "source": [
        "print(\"variables internas del modelo \")\n",
        "#print(capa.get_weights())\n",
        "print(oculta1.get_weights())\n",
        "print(oculta2.get_weights())\n",
        "print(salida.get_weights())\n"
      ],
      "metadata": {
        "colab": {
          "base_uri": "https://localhost:8080/"
        },
        "id": "4eqWWlb40Iv_",
        "outputId": "d332b407-282a-461e-8474-5763f571e4bd"
      },
      "execution_count": 18,
      "outputs": [
        {
          "output_type": "stream",
          "name": "stdout",
          "text": [
            "variables internas del modelo \n",
            "[array([[-0.25736517, -0.3837162 , -0.24886252]], dtype=float32), array([-3.1040468, -3.3169212, -3.106339 ], dtype=float32)]\n",
            "[array([[-1.1746951 , -0.6472811 ,  0.5826347 ],\n",
            "       [-0.5468125 ,  0.107841  ,  1.1712884 ],\n",
            "       [-0.04662373, -1.0771463 ,  0.33520296]], dtype=float32), array([ 3.1865582,  2.7569451, -3.1770966], dtype=float32)]\n",
            "[array([[ 0.80528903],\n",
            "       [ 0.8955897 ],\n",
            "       [-1.4996408 ]], dtype=float32), array([3.0637457], dtype=float32)]\n"
          ]
        }
      ]
    }
  ]
}